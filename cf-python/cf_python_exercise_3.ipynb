{
 "cells": [
  {
   "cell_type": "markdown",
   "metadata": {},
   "source": [
    "# cf-python exercises 3\n",
    "\n",
    "## collapse"
   ]
  },
  {
   "cell_type": "code",
   "execution_count": 1,
   "metadata": {},
   "outputs": [],
   "source": [
    "# import the cf package\n",
    "import cf, cfplot as cfp\n",
    "# In-line images\n",
    "%matplotlib inline\n",
    "# Turn off warnings\n",
    "import warnings\n",
    "warnings.filterwarnings(\"ignore\")"
   ]
  },
  {
   "cell_type": "code",
   "execution_count": 25,
   "metadata": {},
   "outputs": [],
   "source": [
    "# Read the field from file ncas_data/IPSL-CM5A-LR_r1i1p1_tas_n96_rcp45_mnth.nc\n",
    "f = cf.read('ncas_data/IPSL-CM5A-LR_r1i1p1_tas_n96_rcp45_mnth.nc')[0]"
   ]
  },
  {
   "cell_type": "code",
   "execution_count": 19,
   "metadata": {},
   "outputs": [],
   "source": [
    "# Find the temporal variance at each XY location and plot the result\n",
    "# (use the field's \"collapse\" method with the argument 'T: variance')\n",
    "f1= f.collapse('T: variance')"
   ]
  },
  {
   "cell_type": "code",
   "execution_count": 20,
   "metadata": {},
   "outputs": [],
   "source": [
    "# Find the time mean at each X-Y point\n",
    "# (use the field's \"collapse\" method wit the argument 'T: mean')\n",
    "f1= f.collapse('T: mean')"
   ]
  },
  {
   "cell_type": "code",
   "execution_count": 21,
   "metadata": {},
   "outputs": [
    {
     "name": "stdout",
     "output_type": "stream",
     "text": [
      "[[[275.143051117, ..., 275.247835427]]] K\n"
     ]
    }
   ],
   "source": [
    "# Calculate the global mean for each time and print the values for the first 12 times\n",
    "# (use specify the operation as 'X: Y: mean', or equivalently 'area: mean')\n",
    "# Find the time mean at each X-Y point\n",
    "# (use the field's \"collapse\" method wit the argument 'T: mean')\n",
    "f1= f.collapse('area: mean')\n",
    "print(f1.data[:12][:])\n",
    "f2= f.collapse('T: mean')"
   ]
  },
  {
   "cell_type": "code",
   "execution_count": 26,
   "metadata": {},
   "outputs": [
    {
     "data": {
      "text/plain": [
       "<CF Field: air_temperature(time(12), latitude(1), longitude(1)) K>"
      ]
     },
     "execution_count": 26,
     "metadata": {},
     "output_type": "execute_result"
    }
   ],
   "source": [
    "# Calculate the weighted global mean for each time and print the valuesfor the first 12 times\n",
    "# (use the \"weights\" parameter of the field's collapse method with the\n",
    "# value ['X', 'Y'] or equivelently the value 'area')\n",
    "f1= f.collapse('area: mean', weights='area' )\n",
    "f1[:12]\n"
   ]
  },
  {
   "cell_type": "code",
   "execution_count": 29,
   "metadata": {},
   "outputs": [
    {
     "name": "stdout",
     "output_type": "stream",
     "text": [
      "Field: air_temperature (ncvar%tas)\n",
      "----------------------------------\n",
      "Data           : air_temperature(time(120), latitude(1), longitude(1)) K\n",
      "Cell methods   : time: mean (interval: 30 minutes) longitude: mean latitude: range\n",
      "Axes           : height(1) = [2.0] m\n",
      "               : time(120) = [1959-12-16T12:00:00Z, ..., 1969-11-16T00:00:00Z] 365_day\n",
      "               : latitude(1) = [0.0] degrees_north\n",
      "               : longitude(1) = [179.0625] degrees_east\n",
      "\n"
     ]
    }
   ],
   "source": [
    "# For each time find the range spanned by the zonal weighted means \n",
    "# (use the argument \"'X: mean Y: range'\" and the parameter \"weights='X'\")\n",
    "f1= f.collapse('X: mean Y: range', weights='X' )\n",
    "print(f1)"
   ]
  },
  {
   "cell_type": "code",
   "execution_count": 32,
   "metadata": {},
   "outputs": [
    {
     "data": {
      "text/plain": [
       "<CF Data: 297.713266389 K>"
      ]
     },
     "execution_count": 32,
     "metadata": {},
     "output_type": "execute_result"
    }
   ],
   "source": [
    "# Find the weighted temporal minimum of the latitudinal maxima of the longitudinal means \n",
    "f1= f.collapse('X: mean Y: max', weights='area' )\n",
    "f1.min()"
   ]
  },
  {
   "cell_type": "markdown",
   "metadata": {},
   "source": [
    "## Calculate anomalies from the mean"
   ]
  },
  {
   "cell_type": "code",
   "execution_count": 39,
   "metadata": {},
   "outputs": [],
   "source": [
    "# Find the time average at each X-Y location, weighted by month lengths\n",
    "f1= f.collapse('T: mean', weights='T' )"
   ]
  },
  {
   "cell_type": "code",
   "execution_count": 42,
   "metadata": {},
   "outputs": [
    {
     "data": {
      "text/plain": [
       "<CF Data: [[[17.2337431565, ..., -10.0575352081]]] K>"
      ]
     },
     "execution_count": 42,
     "metadata": {},
     "output_type": "execute_result"
    }
   ],
   "source": [
    "# For each element of the original field, calculate the anomaly from the temporal mean\n",
    "# and print its array of values \n",
    "# (use simple subtraction)\n",
    "f2=f-f1\n",
    "f2.data"
   ]
  },
  {
   "cell_type": "code",
   "execution_count": 50,
   "metadata": {},
   "outputs": [
    {
     "data": {
      "text/plain": [
       "<CF Data: [[-2.88258985127, ..., -1.77723125301]] K>"
      ]
     },
     "execution_count": 50,
     "metadata": {},
     "output_type": "execute_result"
    }
   ],
   "source": [
    "# Plot the anomaly from the mean for the month of April 1966\n",
    "# (April 1966 may be specified as cf.month(4) & cf.year(1966))\n",
    "g= f.subspace(T=cf.month(4) & cf.year(1966))\n",
    "f3= g-f1\n",
    "f3.data"
   ]
  },
  {
   "cell_type": "markdown",
   "metadata": {},
   "source": [
    "## Climatological time statistics"
   ]
  },
  {
   "cell_type": "code",
   "execution_count": null,
   "metadata": {
    "collapsed": true
   },
   "outputs": [],
   "source": [
    "# Find the multiannual average of the seasonal (DJF, MAM, etc.) minima and plot the result for JJA \n",
    "# (use the special argument 'T: minimum within years T: mean over years' to the field's \"collapse\" method.\n",
    "#  This also requires the \"within_years\" parameter to define over which periods to take the minima within each year.\n",
    "#  Set this parameter to cf.seasons(), which will specify the four seasons of DJF, MAM, JJA, SON)\n"
   ]
  },
  {
   "cell_type": "code",
   "execution_count": null,
   "metadata": {
    "collapsed": true
   },
   "outputs": [],
   "source": [
    "# Print the new field's time cordiante values and their bounds - note that the bounds span the full 10 years,\n",
    "# but the coordinate values themselves lie in the correct season of the first year\n"
   ]
  },
  {
   "cell_type": "markdown",
   "metadata": {},
   "source": [
    "## Cell methods: describing the variation of the quantity within cells\n",
    "\n",
    "http://cfconventions.org/Data/cf-conventions/cf-conventions-1.7/cf-conventions.html#cell-methods"
   ]
  },
  {
   "cell_type": "code",
   "execution_count": null,
   "metadata": {
    "collapsed": true
   },
   "outputs": [],
   "source": [
    "# Inspect the original and new fields' cell methods, that describe the variation of the quantity within cells,\n",
    "# i.e. a record of the collapses that have been performed\n",
    "# (use the cell_methods attribute of the field)\n"
   ]
  },
  {
   "cell_type": "markdown",
   "metadata": {
    "collapsed": true
   },
   "source": [
    "## Cell areas and weights"
   ]
  },
  {
   "cell_type": "code",
   "execution_count": null,
   "metadata": {
    "collapsed": true
   },
   "outputs": [],
   "source": [
    "# Find and plot the horizontal cell areas of the field\n",
    "# (use the field's \"cell_area\" method)\n"
   ]
  },
  {
   "cell_type": "code",
   "execution_count": null,
   "metadata": {
    "collapsed": true
   },
   "outputs": [],
   "source": [
    "# Find the weights used in time axis collapses\n",
    "# (use the field's weights method and teh cfp.lineplot function on the result)\n"
   ]
  },
  {
   "cell_type": "code",
   "execution_count": null,
   "metadata": {
    "collapsed": true
   },
   "outputs": [],
   "source": [
    "# Find the weights used in area collapses\n",
    "# (use the field's weights method)\n"
   ]
  },
  {
   "cell_type": "code",
   "execution_count": null,
   "metadata": {
    "collapsed": true
   },
   "outputs": [],
   "source": [
    "# Look at the help page for the collapse method\n"
   ]
  }
 ],
 "metadata": {
  "anaconda-cloud": {},
  "kernelspec": {
   "display_name": "Python 2",
   "language": "python",
   "name": "python2"
  },
  "language_info": {
   "codemirror_mode": {
    "name": "ipython",
    "version": 2
   },
   "file_extension": ".py",
   "mimetype": "text/x-python",
   "name": "python",
   "nbconvert_exporter": "python",
   "pygments_lexer": "ipython2",
   "version": "2.7.15"
  }
 },
 "nbformat": 4,
 "nbformat_minor": 2
}
