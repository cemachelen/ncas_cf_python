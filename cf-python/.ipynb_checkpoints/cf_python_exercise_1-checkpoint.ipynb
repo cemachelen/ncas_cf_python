{
 "cells": [
  {
   "cell_type": "markdown",
   "metadata": {},
   "source": [
    "# cf-python exercises 1\n",
    "\n",
    "## Inspection and properties"
   ]
  },
  {
   "cell_type": "code",
   "execution_count": 1,
   "metadata": {},
   "outputs": [],
   "source": [
    "# import the cf package\n",
    "import cf, cfplot as cfp"
   ]
  },
  {
   "cell_type": "code",
   "execution_count": 11,
   "metadata": {},
   "outputs": [],
   "source": [
    "# Read the field from file ncas_data/IPSL-CM5A-LR_r1i1p1_tas_n96_rcp45_mnth.nc\n",
    "# (use the cf.read function)\n",
    "f1 = cf.read('ncas_data/IPSL-CM5A-LR_r1i1p1_tas_n96_rcp45_mnth.nc')"
   ]
  },
  {
   "cell_type": "code",
   "execution_count": 12,
   "metadata": {},
   "outputs": [
    {
     "data": {
      "text/plain": [
       "[<CF Field: air_temperature(time(120), latitude(145), longitude(192)) K>]"
      ]
     },
     "execution_count": 12,
     "metadata": {},
     "output_type": "execute_result"
    }
   ],
   "source": [
    "# Inspect the field as a one-line summary\n",
    "f1"
   ]
  },
  {
   "cell_type": "code",
   "execution_count": 13,
   "metadata": {},
   "outputs": [
    {
     "name": "stdout",
     "output_type": "stream",
     "text": [
      "Field: air_temperature (ncvar%tas)\n",
      "----------------------------------\n",
      "Data           : air_temperature(time(120), latitude(145), longitude(192)) K\n",
      "Cell methods   : time: mean (interval: 30 minutes)\n",
      "Axes           : height(1) = [2.0] m\n",
      "               : time(120) = [1959-12-16T12:00:00Z, ..., 1969-11-16T00:00:00Z] 365_day\n",
      "               : latitude(145) = [-90.0, ..., 90.0] degrees_north\n",
      "               : longitude(192) = [0.0, ..., 358.125] degrees_east\n",
      "\n"
     ]
    }
   ],
   "source": [
    "# Inspect the field as a brief, multi-line summary\n",
    "# (use the print function)\n",
    "print(f1)"
   ]
  },
  {
   "cell_type": "code",
   "execution_count": 22,
   "metadata": {},
   "outputs": [
    {
     "data": {
      "text/plain": [
       "<bound method FieldList.dump of [<CF Field: air_temperature(time(120), latitude(145), longitude(192)) K>]>"
      ]
     },
     "execution_count": 22,
     "metadata": {},
     "output_type": "execute_result"
    }
   ],
   "source": [
    "# Inspect the field in full detail\n",
    "#( use the field's \"dump\" method)\n",
    "f1.dump"
   ]
  },
  {
   "cell_type": "code",
   "execution_count": 15,
   "metadata": {},
   "outputs": [
    {
     "name": "stdout",
     "output_type": "stream",
     "text": [
      "<bound method Field.properties of <CF Field: air_temperature(time(120), latitude(145), longitude(192)) K>>\n"
     ]
    }
   ],
   "source": [
    "# Have a look at the descriptive properties\n",
    "# (use the field's \"properties\" method)\n",
    "airt=f1[0]\n",
    "print(airt.properties)"
   ]
  },
  {
   "cell_type": "code",
   "execution_count": 16,
   "metadata": {},
   "outputs": [
    {
     "name": "stdout",
     "output_type": "stream",
     "text": [
      "new_long_name\n"
     ]
    }
   ],
   "source": [
    "# Change the CF long_name property to a new value and print the new value\n",
    "# (assign to the field's \"long_name\" attribute)\n",
    "airt.long_name = 'new_long_name'\n",
    "print(airt.long_name)"
   ]
  },
  {
   "cell_type": "code",
   "execution_count": 21,
   "metadata": {},
   "outputs": [
    {
     "data": {
      "text/plain": [
       "'newname'"
      ]
     },
     "execution_count": 21,
     "metadata": {},
     "output_type": "execute_result"
    }
   ],
   "source": [
    "# Change the original_name property to a new value and check that it has worked\n",
    "# (use the field's \"setprop\" and \"getprop\" methods)\n",
    "airt.setprop('original_name', 'newname')\n",
    "airt.getprop('original_name')"
   ]
  },
  {
   "cell_type": "code",
   "execution_count": 24,
   "metadata": {},
   "outputs": [
    {
     "ename": "AttributeError",
     "evalue": "Can't delete non-existent Field CF property 'original_name'",
     "output_type": "error",
     "traceback": [
      "\u001b[0;31m---------------------------------------------------------------------------\u001b[0m",
      "\u001b[0;31mAttributeError\u001b[0m                            Traceback (most recent call last)",
      "\u001b[0;32m<ipython-input-24-5bec946c6119>\u001b[0m in \u001b[0;36m<module>\u001b[0;34m()\u001b[0m\n\u001b[1;32m      1\u001b[0m \u001b[0;31m# Delete the original_name property and the CF long_name property\u001b[0m\u001b[0;34m\u001b[0m\u001b[0;34m\u001b[0m\u001b[0m\n\u001b[1;32m      2\u001b[0m \u001b[0;31m# (use the field's \"delprop\" method and the python del function)\u001b[0m\u001b[0;34m\u001b[0m\u001b[0;34m\u001b[0m\u001b[0m\n\u001b[0;32m----> 3\u001b[0;31m \u001b[0mairt\u001b[0m\u001b[0;34m.\u001b[0m\u001b[0mdelprop\u001b[0m\u001b[0;34m(\u001b[0m\u001b[0;34m'original_name'\u001b[0m\u001b[0;34m)\u001b[0m\u001b[0;34m\u001b[0m\u001b[0m\n\u001b[0m\u001b[1;32m      4\u001b[0m \u001b[0mairt\u001b[0m\u001b[0;34m.\u001b[0m\u001b[0mgetprop\u001b[0m\u001b[0;34m(\u001b[0m\u001b[0;34m'original_name'\u001b[0m\u001b[0;34m)\u001b[0m\u001b[0;34m\u001b[0m\u001b[0m\n",
      "\u001b[0;32m/home/user01/ncas_data_tools/anaconda2/lib/python2.7/site-packages/cf/variable.pyc\u001b[0m in \u001b[0;36mdelprop\u001b[0;34m(self, prop)\u001b[0m\n\u001b[1;32m   6666\u001b[0m         \u001b[0;32melse\u001b[0m\u001b[0;34m:\u001b[0m\u001b[0;34m\u001b[0m\u001b[0m\n\u001b[1;32m   6667\u001b[0m             raise AttributeError(\"Can't delete non-existent %s CF property %r\" %\n\u001b[0;32m-> 6668\u001b[0;31m                                  (self.__class__.__name__, prop))\n\u001b[0m\u001b[1;32m   6669\u001b[0m     \u001b[0;31m#--- End: def\u001b[0m\u001b[0;34m\u001b[0m\u001b[0;34m\u001b[0m\u001b[0m\n\u001b[1;32m   6670\u001b[0m \u001b[0;34m\u001b[0m\u001b[0m\n",
      "\u001b[0;31mAttributeError\u001b[0m: Can't delete non-existent Field CF property 'original_name'"
     ]
    }
   ],
   "source": [
    "# Delete the original_name property and the CF long_name property\n",
    "# (use the field's \"delprop\" method and the python del function)\n",
    "airt.delprop('original_name')\n",
    "airt.getprop('original_name')"
   ]
  },
  {
   "cell_type": "code",
   "execution_count": null,
   "metadata": {},
   "outputs": [],
   "source": []
  }
 ],
 "metadata": {
  "anaconda-cloud": {},
  "kernelspec": {
   "display_name": "Python 2",
   "language": "python",
   "name": "python2"
  },
  "language_info": {
   "codemirror_mode": {
    "name": "ipython",
    "version": 2
   },
   "file_extension": ".py",
   "mimetype": "text/x-python",
   "name": "python",
   "nbconvert_exporter": "python",
   "pygments_lexer": "ipython2",
   "version": "2.7.15"
  }
 },
 "nbformat": 4,
 "nbformat_minor": 2
}
